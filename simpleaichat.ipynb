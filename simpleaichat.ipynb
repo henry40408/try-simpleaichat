{
 "cells": [
  {
   "cell_type": "code",
   "execution_count": 22,
   "id": "b45e22d8-2a85-48d1-b32a-c4b42dec9c83",
   "metadata": {},
   "outputs": [],
   "source": [
    "from typing import Dict, Optional\n",
    "import os\n",
    "\n",
    "import httpx\n",
    "from simpleaichat import AIChat\n",
    "\n",
    "MODEL = 'gpt-4-0125-preview'\n",
    "MODEL_PARAMS = {'temperature':0.0}"
   ]
  },
  {
   "cell_type": "code",
   "execution_count": 19,
   "id": "80ad41e7-881b-4106-9f6f-9b4af419786a",
   "metadata": {},
   "outputs": [
    {
     "name": "stdout",
     "output_type": "stream",
     "text": [
      "Hello, Henry! How can I assist you today?\n",
      "token(s): 33\n",
      "1 + 1 = 2\n",
      "token(s): 85\n",
      "Your name is Henry.\n",
      "token(s): 155\n"
     ]
    }
   ],
   "source": [
    "def chat_with_memory():\n",
    "    assert os.environ['OPENAI_API_KEY']\n",
    "    ai = AIChat(console=False, model=MODEL, params=MODEL_PARAMS)\n",
    "    prompts = [\n",
    "        'my name is henry',\n",
    "        '1+1=?',\n",
    "        \"what's my name?\"\n",
    "    ]\n",
    "    for prompt in prompts:\n",
    "        print(ai(prompt))\n",
    "        session = ai.get_session()\n",
    "        print(f'token(s): {session.total_length}')\n",
    "\n",
    "chat_with_memory()"
   ]
  },
  {
   "cell_type": "code",
   "execution_count": 18,
   "id": "d67b908e-ae2a-44a8-9520-1df497a6d60b",
   "metadata": {},
   "outputs": [
    {
     "name": "stdout",
     "output_type": "stream",
     "text": [
      "Hello, Henry! How can I assist you today?\n",
      "Your name is Henry. How can I help you further?\n",
      "token(s): 58\n"
     ]
    }
   ],
   "source": [
    "def save_and_load_messages():\n",
    "    assert os.environ['OPENAI_API_KEY']\n",
    "\n",
    "    ai_1 = AIChat(console=False, model=MODEL, params=MODEL_PARAMS)\n",
    "    prompt = 'my name is henry'\n",
    "    print(ai_1(prompt))\n",
    "\n",
    "    messages = ai_1.get_session().messages\n",
    "    ai_2 = AIChat(console=False, model=MODEL, params=MODEL_PARAMS, messages=messages)\n",
    "\n",
    "    prompt = \"what's my name?\"\n",
    "    print(ai_2(prompt))\n",
    "\n",
    "    session = ai_2.get_session()\n",
    "    print(f'token(s): {session.total_length}')\n",
    "\n",
    "save_and_load_messages()"
   ]
  },
  {
   "cell_type": "code",
   "execution_count": 17,
   "id": "9f882b8d-41c1-461c-8a2b-fd99764003f5",
   "metadata": {},
   "outputs": [
    {
     "name": "stdout",
     "output_type": "stream",
     "text": [
      "The weather in Taipei is partly cloudy with a temperature of +25°C.\n",
      "token(s): 136\n"
     ]
    }
   ],
   "source": [
    "def weather_tool(query: str):\n",
    "    '''Useful to query current weather of a location'''\n",
    "\n",
    "    # Caveat: \"query\" is user input, not the location\n",
    "    ai = AIChat(console=False, model=MODEL, params=MODEL_PARAMS)\n",
    "    location = ai(f'''\n",
    "    Extract the location from the query.\n",
    "    QUERY: `{query}`\n",
    "    LOCATION:\n",
    "    ''').lower()\n",
    "    assert location == 'taipei', 'expect the location to be taipei'\n",
    "\n",
    "    resp = httpx.get(f'https://wttr.in/{location}?format=3')\n",
    "    _, condition = resp.text.split(':')\n",
    "\n",
    "    return {'context':f'Weather of {location} is {condition}.'}\n",
    "\n",
    "def use_tool():\n",
    "    assert os.environ['OPENAI_API_KEY']\n",
    "    ai = AIChat(console=False, model=MODEL, params=MODEL_PARAMS)\n",
    "    print(ai(\"what's the weather of Taipei\", tools=[weather_tool])['response'])\n",
    "    session = ai.get_session()\n",
    "    print(f'token(s): {session.total_length}')\n",
    "\n",
    "use_tool()"
   ]
  },
  {
   "cell_type": "code",
   "execution_count": 31,
   "id": "f25b4078-280e-40fa-9f93-e4ea4ffb6b46",
   "metadata": {},
   "outputs": [
    {
     "name": "stdout",
     "output_type": "stream",
     "text": [
      "Hello Henry! It's great to meet you. How can I assist you today?\n",
      "The weather in Taipei is currently partly cloudy with a temperature of +25°C. How can I further assist you with this information, Henry?\n",
      "token(s): 350\n"
     ]
    }
   ],
   "source": [
    "class Toolset:\n",
    "    def __init__(self, *, ai: AIChat, session_id: Optional[str]=None):\n",
    "        self.ai = ai\n",
    "        self.session = ai.get_session(id=session_id)\n",
    "\n",
    "    @property\n",
    "    def tools(self):\n",
    "        return [self.weather_tool]\n",
    "\n",
    "    def extract_from_messages(self, *, prompt: str, query: str) -> str:\n",
    "        messages = '===\\n'.join([\n",
    "            f'''\n",
    "            <role> {m.role}\n",
    "            <message> {m.content}\n",
    "            '''  for m in self.session.messages\n",
    "        ])\n",
    "        prompt = f'''\n",
    "        {prompt}\n",
    "        CONTEXT:\n",
    "        ===\n",
    "        {messages}\n",
    "        ===\n",
    "        MENTIONED:\n",
    "        '''\n",
    "        ai = AIChat(console=False, model=MODEL, params=MODEL_PARAMS)\n",
    "        return ai(prompt)\n",
    "\n",
    "    def weather_tool(self, query: str) -> Dict[str, str]:\n",
    "        '''Useful to query current weather of a location'''\n",
    "        location = self.extract_from_messages(\n",
    "            prompt=\"what's the actual location that the user mentioned in the query?\",\n",
    "            query=query\n",
    "        ).lower()\n",
    "        assert location == 'taipei', 'expect the location to be taipei'\n",
    "        resp = httpx.get(f'https://wttr.in/{location}?format=3')\n",
    "        _, condition = resp.text.split(':')\n",
    "        return {'context':f'Weather of {location} is {condition}.'}\n",
    "\n",
    "def memory_and_tool():\n",
    "    assert os.environ['OPENAI_API_KEY']\n",
    "    \n",
    "    ai = AIChat(console=False, model=MODEL, params=MODEL_PARAMS)\n",
    "    toolset = Toolset(ai=ai)\n",
    "\n",
    "    prompts = [\n",
    "        'my name is henry and i am live in taipei',\n",
    "        \"what's the weather of the place I live?\"\n",
    "    ]\n",
    "    for prompt in prompts:\n",
    "        print(ai(prompt, tools=toolset.tools)['response'])\n",
    "\n",
    "    session = ai.get_session()\n",
    "    print(f'token(s): {session.total_length}')\n",
    "\n",
    "memory_and_tool()"
   ]
  },
  {
   "cell_type": "code",
   "execution_count": null,
   "id": "e82dda4f-4d02-4bbb-bffe-9025ad3dfec5",
   "metadata": {},
   "outputs": [],
   "source": []
  }
 ],
 "metadata": {
  "kernelspec": {
   "display_name": "Python 3 (ipykernel)",
   "language": "python",
   "name": "python3"
  },
  "language_info": {
   "codemirror_mode": {
    "name": "ipython",
    "version": 3
   },
   "file_extension": ".py",
   "mimetype": "text/x-python",
   "name": "python",
   "nbconvert_exporter": "python",
   "pygments_lexer": "ipython3",
   "version": "3.11.6"
  }
 },
 "nbformat": 4,
 "nbformat_minor": 5
}
